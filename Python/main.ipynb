{
 "cells": [
  {
   "cell_type": "markdown",
   "metadata": {},
   "source": [
    "#### **Passo 1 - Importar arquivos e bibliotecas.**"
   ]
  },
  {
   "cell_type": "code",
   "execution_count": 1,
   "metadata": {},
   "outputs": [],
   "source": [
    "# Importar bibliotecas.\n",
    "import pandas as pd\n",
    "from pathlib import Path\n",
    "import os\n",
    "import smtplib\n",
    "from email.mime.multipart import MIMEMultipart\n",
    "from email.mime.text import MIMEText\n",
    "from email.mime.base import MIMEBase\n",
    "from email import encoders\n",
    "\n",
    "# Definir caminhos.\n",
    "caminho_backup = Path('../Backup Arquivos Lojas')\n",
    "caminho_bases = Path('../Bases de Dados')"
   ]
  },
  {
   "cell_type": "code",
   "execution_count": 2,
   "metadata": {},
   "outputs": [],
   "source": [
    "# Importar dia_indicadorFrames.\n",
    "lojas_df = pd.read_csv(f'{caminho_bases}\\Lojas.csv', sep=';', encoding='latin1')\n",
    "vendas_df = pd.read_excel(f'{caminho_bases}\\Vendas.xlsx')\n",
    "emails_df = pd.read_excel(f'{caminho_bases}\\Emails.xlsx')"
   ]
  },
  {
   "cell_type": "markdown",
   "metadata": {},
   "source": [
    "#### **Passo 2 - Criar tabelas de vendas separadas para cada loja.**"
   ]
  },
  {
   "cell_type": "code",
   "execution_count": null,
   "metadata": {},
   "outputs": [],
   "source": [
    "# Juntar o nome das lojas ao vendas_df.\n",
    "vendas_df = vendas_df.merge(lojas_df, on='ID Loja')\n",
    "display(vendas_df.head(3))"
   ]
  },
  {
   "cell_type": "code",
   "execution_count": 4,
   "metadata": {},
   "outputs": [],
   "source": [
    "# Separar as vendas de cada loja em um dicionário.\n",
    "dicionario_lojas = {}\n",
    "for loja in lojas_df['Loja']: dicionario_lojas[loja] = vendas_df.loc[vendas_df['Loja'] == loja, :]"
   ]
  },
  {
   "cell_type": "code",
   "execution_count": 5,
   "metadata": {},
   "outputs": [
    {
     "name": "stdout",
     "output_type": "stream",
     "text": [
      "2019-12-26 00:00:00\n",
      "26 12 2019\n"
     ]
    }
   ],
   "source": [
    "# Pegar a última data do registro.\n",
    "dia_indicador = vendas_df['Data'].max()\n",
    "print(dia_indicador)\n",
    "print(dia_indicador.day, dia_indicador.month, dia_indicador.year)"
   ]
  },
  {
   "cell_type": "markdown",
   "metadata": {},
   "source": [
    "#### **Passo 3 - Salvar planilhas na pasta Backup.**"
   ]
  },
  {
   "cell_type": "code",
   "execution_count": 6,
   "metadata": {},
   "outputs": [],
   "source": [
    "if not caminho_backup.exists(): # Se a pasta não existir.\n",
    "    os.mkdir(caminho_backup) # Cria a pasta.\n",
    "\n",
    "# Lista de arquivos/diretório na pasta backup atual.\n",
    "lista_arquivos_backup = [arquivo.name for arquivo in caminho_backup.iterdir()]\n",
    "\n",
    "# Criar pastas e salvar o arquivo para cada loja.\n",
    "for loja in dicionario_lojas:\n",
    "    if not loja in lista_arquivos_backup: # Se não tiver pasta para uma loja.\n",
    "        os.mkdir(caminho_backup / Path(loja)) # Criar a pasta.\n",
    "    else: # Se já existir a pasta.\n",
    "        nome_arquivo = f'{dia_indicador.month}_{dia_indicador.day}_{loja}.xlsx'\n",
    "        local_arquivo = caminho_backup / Path(loja) / Path(nome_arquivo)\n",
    "        dicionario_lojas[loja].to_excel(local_arquivo)"
   ]
  },
  {
   "cell_type": "markdown",
   "metadata": {},
   "source": [
    "#### **Passo 4 - Calcular os indicadores para 1 loja.**"
   ]
  },
  {
   "cell_type": "code",
   "execution_count": 7,
   "metadata": {},
   "outputs": [
    {
     "name": "stdout",
     "output_type": "stream",
     "text": [
      "784.5866177818515\n",
      "1259.0\n"
     ]
    }
   ],
   "source": [
    "loja = 'Norte Shopping'\n",
    "vendas_loja = dicionario_lojas[loja]\n",
    "vendas_loja_dia = vendas_loja.loc[vendas_loja['Data'] == dia_indicador, :]\n",
    "\n",
    "# Faturamento.\n",
    "faturamento_ano = vendas_loja['Valor Final'].sum()\n",
    "faturamento_dia = vendas_loja_dia['Valor Final'].sum()\n",
    "\n",
    "# Diversidade de produtos.\n",
    "qtde_produtos_ano = len(vendas_loja['Produto'].unique())\n",
    "qtde_produtos_dia = len(vendas_loja_dia['Produto'].unique())\n",
    "\n",
    "# Ticket medio == Valor médio das compras.\n",
    "valor_venda = vendas_loja[['Código Venda', 'ID Loja', 'Quantidade', 'Valor Unitário', 'Valor Final']].groupby('Código Venda').sum()\n",
    "ticket_medio_ano = valor_venda['Valor Final'].mean()\n",
    "valor_venda_dia = vendas_loja_dia[['Código Venda', 'ID Loja', 'Quantidade', 'Valor Unitário', 'Valor Final']].groupby('ID Loja').sum()\n",
    "ticket_medio_dia = valor_venda_dia['Valor Final'].mean()\n",
    "print(ticket_medio_ano)\n",
    "print(ticket_medio_dia)"
   ]
  },
  {
   "cell_type": "code",
   "execution_count": 8,
   "metadata": {},
   "outputs": [],
   "source": [
    "# Definir metas.\n",
    "meta_faturamento_dia = 1000\n",
    "meta_faturamento_ano = 1650000\n",
    "meta_qtdeprodutos_dia = 4\n",
    "meta_qtdeprodutos_ano = 120\n",
    "meta_ticketmedio_dia = 500\n",
    "meta_ticketmedio_ano = 500"
   ]
  },
  {
   "cell_type": "markdown",
   "metadata": {},
   "source": [
    "#### **Passo 5 - Enviar email para 1 gerente.**"
   ]
  },
  {
   "cell_type": "markdown",
   "metadata": {},
   "source": [
    "##### Alterar os e-mails para conseguir enviar para mim mesmo."
   ]
  },
  {
   "cell_type": "markdown",
   "metadata": {},
   "source": [
    "##### Corpo do e-mail."
   ]
  },
  {
   "cell_type": "code",
   "execution_count": null,
   "metadata": {},
   "outputs": [],
   "source": [
    "nome = emails_df.loc[emails_df['Loja'] == loja, 'Gerente'].values[0]\n",
    "\n",
    "cor_fat_dia = 'green' if faturamento_dia >= meta_faturamento_dia else 'red'\n",
    "cor_fat_ano = 'green' if faturamento_ano >= meta_faturamento_ano else 'red'\n",
    "cor_qtde_dia = 'green' if qtde_produtos_dia >= meta_qtdeprodutos_dia else 'red'\n",
    "cor_qtde_ano = 'green' if qtde_produtos_ano >= meta_qtdeprodutos_ano else 'red'\n",
    "cor_ticket_dia = 'green' if ticket_medio_dia >= meta_ticketmedio_dia else 'red'\n",
    "cor_ticket_ano = 'green' if ticket_medio_ano >= meta_ticketmedio_ano else 'red'\n",
    "\n",
    "corpo_email = f'''\n",
    "<p>Bom dia, {nome}</p>\n",
    "\n",
    "<p>O resultado de ontem <strong>({dia_indicador.month}/{dia_indicador.day})</strong> da <strong>Loja {loja}</strong> foi:</p>\n",
    "\n",
    "<table>\n",
    "    <tr>\n",
    "        <th style=\"padding: 10px;\">Indicador</th>\n",
    "        <th style=\"padding: 10px;\">Valor Dia</th>\n",
    "        <th style=\"padding: 10px;\">Meta Dia</th>\n",
    "        <th style=\"padding: 10px;\">Cenário Dia</th>\n",
    "    </tr>\n",
    "    <tr>\n",
    "        <td style=\"text-align: left; padding: 0px 10px 0px 0px;\">Faturamento</td>\n",
    "        <td style=\"text-align: center; padding: 0px 10px 0px 0px;\">R${faturamento_dia:_.2f}</td>\n",
    "        <td style=\"text-align: center; padding: 0px 10px 0px 0px;\">R${meta_faturamento_dia:_.2f}</td>\n",
    "        <td style=\"text-align: center; padding: 0px 10px 0px 0px;\"><font color='{cor_fat_dia}'>◙</font></td>\n",
    "    </tr>\n",
    "    <tr>\n",
    "        <td style=\"text-align: left; padding: 0px 10px 0px 0px;\">Diversidade de Produtos</td>\n",
    "        <td style=\"text-align: center; padding: 0px 10px 0px 0px;\">{qtde_produtos_dia}</td>\n",
    "        <td style=\"text-align: center; padding: 0px 10px 0px 0px;\">{meta_qtdeprodutos_dia}</td>\n",
    "        <td style=\"text-align: center; padding: 0px 10px 0px 0px;\"><font color='{cor_qtde_dia}'>◙</td>\n",
    "    </tr>\n",
    "    <tr>\n",
    "        <td style=\"text-align: left; padding: 0px 10px 0px 0px;\">Ticket Médio</td>\n",
    "        <td style=\"text-align: center; padding: 0px 10px 0px 0px;\">R${ticket_medio_dia:_.2f}</td>\n",
    "        <td style=\"text-align: center; padding: 0px 10px 0px 0px;\">R${meta_ticketmedio_dia:_.2f}</td>\n",
    "        <td style=\"text-align: center; padding: 0px 10px 0px 0px;\"><font color='{cor_ticket_dia}'>◙</td>\n",
    "    </tr>\n",
    "</table>\n",
    "\n",
    "<br>\n",
    "\n",
    "<table>\n",
    "    <tr>\n",
    "        <th style=\"padding: 10px;\">Indicador</th>\n",
    "        <th style=\"padding: 10px;\">Valor Ano</th>\n",
    "        <th style=\"padding: 10px;\">Meta Ano</th>\n",
    "        <th style=\"padding: 10px;\">Cenário Ano</th>\n",
    "    </tr>\n",
    "    <tr>\n",
    "        <td style=\"text-align: left; padding: 0px 10px 0px 0px;\">Faturamento</td>\n",
    "        <td style=\"text-align: center; padding: 0px 10px 0px 0px;\">R${faturamento_ano:_.2f}</td>\n",
    "        <td style=\"text-align: center; padding: 0px 10px 0px 0px;\">R${meta_faturamento_ano:_.2f}</td>\n",
    "        <td style=\"text-align: center; padding: 0px 10px 0px 0px;\"><font color='{cor_fat_ano}'>◙</font></td>\n",
    "    </tr>\n",
    "    <tr>\n",
    "        <td style=\"text-align: left; padding: 0px 10px 0px 0px;\">Diversidade de Produtos</td>\n",
    "        <td style=\"text-align: center; padding: 0px 10px 0px 0px;\">{qtde_produtos_ano}</td>\n",
    "        <td style=\"text-align: center; padding: 0px 10px 0px 0px;\">{meta_qtdeprodutos_ano}</td>\n",
    "        <td style=\"text-align: center; padding: 0px 10px 0px 0px;\"><font color='{cor_qtde_ano}'>◙</td>\n",
    "    </tr>\n",
    "    <tr>\n",
    "        <td style=\"text-align: left; padding: 0px 10px 0px 0px;\">Ticket Médio</td>\n",
    "        <td style=\"text-align: center; padding: 0px 10px 0px 0px;\">R${ticket_medio_ano:_.2f}</td>\n",
    "        <td style=\"text-align: center; padding: 0px 10px 0px 0px;\">R${meta_ticketmedio_ano:_.2f}</td>\n",
    "        <td style=\"text-align: center; padding: 0px 10px 0px 0px;\"><font color='{cor_ticket_ano}'>◙</td>\n",
    "    </tr>\n",
    "</table>\n",
    "\n",
    "<br>\n",
    "\n",
    "<p>Segue em anexo a planilha com todos os dados para mais detalhes.</p>\n",
    "\n",
    "<p>Qualquer dúvida estou a disposição.</p>\n",
    "<p>Att., Funcionario</p>\n",
    "'''.replace('.', ',').replace('_','.')"
   ]
  },
  {
   "cell_type": "markdown",
   "metadata": {},
   "source": [
    "##### Enviar e-mail."
   ]
  },
  {
   "cell_type": "code",
   "execution_count": 90,
   "metadata": {},
   "outputs": [
    {
     "name": "stdout",
     "output_type": "stream",
     "text": [
      "E-mail enviado com sucesso!\n"
     ]
    }
   ],
   "source": [
    "# Configurações do servidor e e-mail remetente\n",
    "email_remetente = 'email_Funcionario@gmail.com'\n",
    "senha_remetente = 'xxxxxxxxx'          # Use a senha de aplicativo gerada anteriormente.\n",
    "smtp_host = \"smtp.gmail.com\"\n",
    "smtp_port = 587\n",
    "\n",
    "# Destinatário e assunto do e-mail\n",
    "email_destinatario = emails_df.loc[emails_df['Loja'] == loja, 'E-mail'].values[0]\n",
    "assunto = f\"OnePage Dia {dia_indicador.strftime('%d/%m/%Y')} - Loja {loja}\"\n",
    "\n",
    "# Criação da mensagem\n",
    "msg = MIMEMultipart()\n",
    "msg[\"From\"] = email_remetente\n",
    "msg[\"To\"] = email_destinatario\n",
    "msg[\"Subject\"] = assunto\n",
    "\n",
    "# Adiciona o corpo do e-mail em HTML\n",
    "msg.attach(MIMEText(corpo_email, \"html\"))\n",
    "\n",
    "# Arquivo anexar.\n",
    "arquivo = Path(f'{dia_indicador.month}_{dia_indicador.day}_{loja}.xlsx')\n",
    "caminho_arquivo = caminho_backup / loja / arquivo\n",
    "part = MIMEBase(\"application\", \"octet-stream\")\n",
    "with open(caminho_arquivo, \"rb\") as file:\n",
    "    part.set_payload(file.read())\n",
    "encoders.encode_base64(part)\n",
    "part.add_header(\"Content-Disposition\", f\"attachment; filename= {arquivo}\")\n",
    "msg.attach(part)\n",
    "\n",
    "# Conexão com o servidor SMTP\n",
    "try:\n",
    "    server = smtplib.SMTP(smtp_host, smtp_port)\n",
    "    server.starttls()\n",
    "    server.login(email_remetente, senha_remetente)\n",
    "    \n",
    "    # Envio do e-mail\n",
    "    server.sendmail(email_remetente, email_destinatario, msg.as_string())\n",
    "    print(\"E-mail enviado com sucesso!\")\n",
    "except Exception as e:\n",
    "    print(f\"Erro ao enviar o e-mail: {e}\")\n",
    "finally:\n",
    "    server.quit()"
   ]
  },
  {
   "cell_type": "markdown",
   "metadata": {},
   "source": [
    "#### **Passo 5 - Fazer para todos as lojas.**"
   ]
  },
  {
   "cell_type": "code",
   "execution_count": 6,
   "metadata": {},
   "outputs": [],
   "source": [
    "# Definir metas.\n",
    "meta_faturamento_dia = 1000\n",
    "meta_faturamento_ano = 1650000\n",
    "meta_qtdeprodutos_dia = 4\n",
    "meta_qtdeprodutos_ano = 120\n",
    "meta_ticketmedio_dia = 500\n",
    "meta_ticketmedio_ano = 500"
   ]
  },
  {
   "cell_type": "code",
   "execution_count": null,
   "metadata": {},
   "outputs": [],
   "source": [
    "for loja in dicionario_lojas:\n",
    "    ### Calcular indicadores para loja. ###\n",
    "\n",
    "    vendas_loja = dicionario_lojas[loja]\n",
    "    vendas_loja_dia = vendas_loja.loc[vendas_loja['Data'] == dia_indicador, :]\n",
    "\n",
    "    # Faturamento.\n",
    "    faturamento_ano = vendas_loja['Valor Final'].sum()\n",
    "    faturamento_dia = vendas_loja_dia['Valor Final'].sum()\n",
    "\n",
    "    # Diversidade de produtos.\n",
    "    qtde_produtos_ano = len(vendas_loja['Produto'].unique())\n",
    "    qtde_produtos_dia = len(vendas_loja_dia['Produto'].unique())\n",
    "\n",
    "    # Ticket medio == Valor médio das compras.\n",
    "    valor_venda = vendas_loja[['Código Venda', 'ID Loja', 'Quantidade', 'Valor Unitário', 'Valor Final']].groupby('Código Venda').sum()\n",
    "    ticket_medio_ano = valor_venda['Valor Final'].mean()\n",
    "    valor_venda_dia = vendas_loja_dia[['Código Venda', 'ID Loja', 'Quantidade', 'Valor Unitário', 'Valor Final']].groupby('ID Loja').sum()\n",
    "    ticket_medio_dia = valor_venda_dia['Valor Final'].mean()\n",
    "    \n",
    "    ### Corpo do e-mail. ###\n",
    "    \n",
    "    nome = emails_df.loc[emails_df['Loja'] == loja, 'Gerente'].values[0]\n",
    "\n",
    "    cor_fat_dia = 'green' if faturamento_dia >= meta_faturamento_dia else 'red'\n",
    "    cor_fat_ano = 'green' if faturamento_ano >= meta_faturamento_ano else 'red'\n",
    "    cor_qtde_dia = 'green' if qtde_produtos_dia >= meta_qtdeprodutos_dia else 'red'\n",
    "    cor_qtde_ano = 'green' if qtde_produtos_ano >= meta_qtdeprodutos_ano else 'red'\n",
    "    cor_ticket_dia = 'green' if ticket_medio_dia >= meta_ticketmedio_dia else 'red'\n",
    "    cor_ticket_ano = 'green' if ticket_medio_ano >= meta_ticketmedio_ano else 'red'\n",
    "\n",
    "    corpo_email = f'''\n",
    "    <p>Bom dia, {nome}</p>\n",
    "\n",
    "    <p>O resultado de ontem <strong>({dia_indicador.month}/{dia_indicador.day})</strong> da <strong>Loja {loja}</strong> foi:</p>\n",
    "\n",
    "    <table>\n",
    "        <tr>\n",
    "            <th style=\"padding: 10px;\">Indicador</th>\n",
    "            <th style=\"padding: 10px;\">Valor Dia</th>\n",
    "            <th style=\"padding: 10px;\">Meta Dia</th>\n",
    "            <th style=\"padding: 10px;\">Cenário Dia</th>\n",
    "        </tr>\n",
    "        <tr>\n",
    "            <td style=\"text-align: left; padding: 0px 10px 0px 0px;\">Faturamento</td>\n",
    "            <td style=\"text-align: center; padding: 0px 10px 0px 0px;\">R${faturamento_dia:_.2f}</td>\n",
    "            <td style=\"text-align: center; padding: 0px 10px 0px 0px;\">R${meta_faturamento_dia:_.2f}</td>\n",
    "            <td style=\"text-align: center; padding: 0px 10px 0px 0px;\"><font color='{cor_fat_dia}'>◙</font></td>\n",
    "        </tr>\n",
    "        <tr>\n",
    "            <td style=\"text-align: left; padding: 0px 10px 0px 0px;\">Diversidade de Produtos</td>\n",
    "            <td style=\"text-align: center; padding: 0px 10px 0px 0px;\">{qtde_produtos_dia}</td>\n",
    "            <td style=\"text-align: center; padding: 0px 10px 0px 0px;\">{meta_qtdeprodutos_dia}</td>\n",
    "            <td style=\"text-align: center; padding: 0px 10px 0px 0px;\"><font color='{cor_qtde_dia}'>◙</td>\n",
    "        </tr>\n",
    "        <tr>\n",
    "            <td style=\"text-align: left; padding: 0px 10px 0px 0px;\">Ticket Médio</td>\n",
    "            <td style=\"text-align: center; padding: 0px 10px 0px 0px;\">R${ticket_medio_dia:_.2f}</td>\n",
    "            <td style=\"text-align: center; padding: 0px 10px 0px 0px;\">R${meta_ticketmedio_dia:_.2f}</td>\n",
    "            <td style=\"text-align: center; padding: 0px 10px 0px 0px;\"><font color='{cor_ticket_dia}'>◙</td>\n",
    "        </tr>\n",
    "    </table>\n",
    "\n",
    "    <br>\n",
    "\n",
    "    <table>\n",
    "        <tr>\n",
    "            <th style=\"padding: 10px;\">Indicador</th>\n",
    "            <th style=\"padding: 10px;\">Valor Ano</th>\n",
    "            <th style=\"padding: 10px;\">Meta Ano</th>\n",
    "            <th style=\"padding: 10px;\">Cenário Ano</th>\n",
    "        </tr>\n",
    "        <tr>\n",
    "            <td style=\"text-align: left; padding: 0px 10px 0px 0px;\">Faturamento</td>\n",
    "            <td style=\"text-align: center; padding: 0px 10px 0px 0px;\">R${faturamento_ano:_.2f}</td>\n",
    "            <td style=\"text-align: center; padding: 0px 10px 0px 0px;\">R${meta_faturamento_ano:_.2f}</td>\n",
    "            <td style=\"text-align: center; padding: 0px 10px 0px 0px;\"><font color='{cor_fat_ano}'>◙</font></td>\n",
    "        </tr>\n",
    "        <tr>\n",
    "            <td style=\"text-align: left; padding: 0px 10px 0px 0px;\">Diversidade de Produtos</td>\n",
    "            <td style=\"text-align: center; padding: 0px 10px 0px 0px;\">{qtde_produtos_ano}</td>\n",
    "            <td style=\"text-align: center; padding: 0px 10px 0px 0px;\">{meta_qtdeprodutos_ano}</td>\n",
    "            <td style=\"text-align: center; padding: 0px 10px 0px 0px;\"><font color='{cor_qtde_ano}'>◙</td>\n",
    "        </tr>\n",
    "        <tr>\n",
    "            <td style=\"text-align: left; padding: 0px 10px 0px 0px;\">Ticket Médio</td>\n",
    "            <td style=\"text-align: center; padding: 0px 10px 0px 0px;\">R${ticket_medio_ano:_.2f}</td>\n",
    "            <td style=\"text-align: center; padding: 0px 10px 0px 0px;\">R${meta_ticketmedio_ano:_.2f}</td>\n",
    "            <td style=\"text-align: center; padding: 0px 10px 0px 0px;\"><font color='{cor_ticket_ano}'>◙</td>\n",
    "        </tr>\n",
    "    </table>\n",
    "\n",
    "    <br>\n",
    "\n",
    "    <p>Segue em anexo a planilha com todos os dados para mais detalhes.</p>\n",
    "\n",
    "    <p>Qualquer dúvida estou a disposição.</p>\n",
    "    <p>Att., João</p>\n",
    "    '''.replace('.', ',').replace('_','.')\n",
    "\n",
    "    ### Enviar e-mail. ###\n",
    "\n",
    "    # Configurações do servidor e e-mail remetente\n",
    "    email_remetente = 'email_funcionario@gmail.com'\n",
    "    senha_remetente = 'xxxxxxxxx'          # Use a senha de aplicativo gerada anteriormente.\n",
    "    smtp_host = \"smtp.gmail.com\"\n",
    "    smtp_port = 587\n",
    "\n",
    "    # Destinatário e assunto do e-mail\n",
    "    email_destinatario = emails_df.loc[emails_df['Loja'] == loja, 'E-mail'].values[0]\n",
    "    assunto = f\"OnePage Dia {dia_indicador.strftime('%d/%m/%Y')} - Loja {loja}\"\n",
    "\n",
    "    # Criação da mensagem\n",
    "    msg = MIMEMultipart()\n",
    "    msg[\"From\"] = email_remetente\n",
    "    msg[\"To\"] = email_destinatario\n",
    "    msg[\"Subject\"] = assunto\n",
    "\n",
    "    # Adiciona o corpo do e-mail em HTML\n",
    "    msg.attach(MIMEText(corpo_email, \"html\"))\n",
    "\n",
    "    # Arquivo anexar.\n",
    "    arquivo = Path(f'{dia_indicador.month}_{dia_indicador.day}_{loja}.xlsx')\n",
    "    caminho_arquivo = caminho_backup / loja / arquivo\n",
    "    part = MIMEBase(\"application\", \"octet-stream\")\n",
    "    with open(caminho_arquivo, \"rb\") as file:\n",
    "        part.set_payload(file.read())\n",
    "    encoders.encode_base64(part)\n",
    "    part.add_header(\"Content-Disposition\", f\"attachment; filename= {arquivo}\")\n",
    "    msg.attach(part)\n",
    "\n",
    "    # Conexão com o servidor SMTP\n",
    "    try:\n",
    "        server = smtplib.SMTP(smtp_host, smtp_port)\n",
    "        server.starttls()\n",
    "        server.login(email_remetente, senha_remetente)\n",
    "        \n",
    "        # Envio do e-mail\n",
    "        server.sendmail(email_remetente, email_destinatario, msg.as_string())\n",
    "        print(f\"E-mail da Loja {loja} enviado com sucesso!\")\n",
    "    except Exception as e:\n",
    "        print(f\"Erro ao enviar o e-mail: {e}\")\n",
    "    finally:\n",
    "        server.quit()"
   ]
  },
  {
   "cell_type": "markdown",
   "metadata": {},
   "source": [
    "#### **Passo 6 - Criar ranking para a diretoria.**"
   ]
  },
  {
   "cell_type": "code",
   "execution_count": 10,
   "metadata": {},
   "outputs": [],
   "source": [
    "# Faturamento no ano.\n",
    "faturamento_lojas_ano = vendas_df.groupby('Loja')[['Valor Final']].sum()\n",
    "faturamento_lojas_ano.sort_values('Valor Final', ascending=False, inplace=True)\n",
    "\n",
    "# Salvar arquivo.\n",
    "arquivo = f'{dia_indicador.month}_{dia_indicador.day}_Ranking Anual.xlsx'\n",
    "local_arquivo = caminho_backup / Path(arquivo)\n",
    "faturamento_lojas_ano.to_excel(local_arquivo)\n",
    "\n",
    "# Faturamento no dia.\n",
    "vendas_dia = vendas_df.loc[vendas_df['Data'] == dia_indicador, :]\n",
    "faturamento_lojas_dia = vendas_dia.groupby('Loja')[['Valor Final']].sum()\n",
    "faturamento_lojas_dia.sort_values('Valor Final', ascending=False, inplace=True)\n",
    "\n",
    "# Salvar arquivo.\n",
    "arquivo = f'{dia_indicador.month}_{dia_indicador.day}_Ranking Dia.xlsx'\n",
    "local_arquivo = caminho_backup / Path(arquivo)\n",
    "faturamento_lojas_dia.to_excel(local_arquivo)"
   ]
  },
  {
   "cell_type": "markdown",
   "metadata": {},
   "source": [
    "#### **Passo 7 - Enviar e-mail para a diretoria com o Ranking.**"
   ]
  },
  {
   "cell_type": "code",
   "execution_count": 28,
   "metadata": {},
   "outputs": [],
   "source": [
    "corpo_email = f'''\n",
    "Prezados, bom dia\n",
    "\n",
    "Melhor loja do Dia em faturamento: Loja {faturamento_lojas_dia.index[0]} com Faturamento R${faturamento_lojas_dia['Valor Final'][0]:_.2f}\n",
    "Pior loja do Dia em faturamento: Loja {faturamento_lojas_dia.index[-1]} com Faturamento R${faturamento_lojas_dia['Valor Final'][-1]:_.2f}\n",
    "\n",
    "Melhor loja do Ano em faturamento: Loja {faturamento_lojas_ano.index[0]} com Faturamento R${faturamento_lojas_ano['Valor Final'][0]:_.2f}\n",
    "Pior loja do Ano em faturamento: Loja {faturamento_lojas_ano.index[0]} com Faturamento R${faturamento_lojas_ano['Valor Final'][-1]:_.2f}\n",
    "\n",
    "Segue em anexo os rankings do ano e dia de todas as lojas.\n",
    "\n",
    "Qualquer dúvida estou à disposição.\n",
    "\n",
    "Att., João\n",
    "'''.replace('.',',').replace('_','.')"
   ]
  },
  {
   "cell_type": "code",
   "execution_count": 29,
   "metadata": {},
   "outputs": [
    {
     "name": "stdout",
     "output_type": "stream",
     "text": [
      "E-mail da Diretoria enviado com sucesso!\n"
     ]
    }
   ],
   "source": [
    "# Configurações do servidor e e-mail remetente\n",
    "email_remetente = 'email_funcionario@gmail.com'\n",
    "senha_remetente = 'xxxxxxxxx'          # Use a senha de aplicativo gerada anteriormente.\n",
    "smtp_host = \"smtp.gmail.com\"\n",
    "smtp_port = 587\n",
    "\n",
    "# Destinatário e assunto do e-mail\n",
    "email_destinatario = emails_df.loc[emails_df['Loja'] == 'Diretoria', 'E-mail'].values[0]\n",
    "assunto = f\"Ranking Dia {dia_indicador.strftime('%d/%m/%Y')}\"\n",
    "\n",
    "# Criação da mensagem\n",
    "msg = MIMEMultipart()\n",
    "msg[\"From\"] = email_remetente\n",
    "msg[\"To\"] = email_destinatario\n",
    "msg[\"Subject\"] = assunto\n",
    "\n",
    "# Adiciona o corpo do e-mail\n",
    "msg.attach(MIMEText(corpo_email, \"plain\"))\n",
    "\n",
    "# Lista de arquivos a serem anexados\n",
    "arquivos_anexo = [f'{dia_indicador.month}_{dia_indicador.day}_Ranking Anual.xlsx', \n",
    "                  f'{dia_indicador.month}_{dia_indicador.day}_Ranking Dia.xlsx']\n",
    "\n",
    "# Anexando os arquivos à mensagem\n",
    "for arquivo in arquivos_anexo:\n",
    "    part = MIMEBase(\"application\", \"octet-stream\")\n",
    "    with open(caminho_backup / arquivo, \"rb\") as file:\n",
    "        part.set_payload(file.read())\n",
    "    encoders.encode_base64(part)\n",
    "    part.add_header(\"Content-Disposition\", f\"attachment; filename= {arquivo}\")\n",
    "    msg.attach(part) \n",
    "\n",
    "\n",
    "# Conexão com o servidor SMTP\n",
    "try:\n",
    "    server = smtplib.SMTP(smtp_host, smtp_port)\n",
    "    server.starttls()\n",
    "    server.login(email_remetente, senha_remetente)\n",
    "    \n",
    "    # Envio do e-mail\n",
    "    server.sendmail(email_remetente, email_destinatario, msg.as_string())\n",
    "    print(\"E-mail da Diretoria enviado com sucesso!\")\n",
    "except Exception as e:\n",
    "    print(f\"Erro ao enviar o e-mail: {e}\")\n",
    "finally:\n",
    "    server.quit()"
   ]
  }
 ],
 "metadata": {
  "kernelspec": {
   "display_name": "Python 3",
   "language": "python",
   "name": "python3"
  },
  "language_info": {
   "codemirror_mode": {
    "name": "ipython",
    "version": 3
   },
   "file_extension": ".py",
   "mimetype": "text/x-python",
   "name": "python",
   "nbconvert_exporter": "python",
   "pygments_lexer": "ipython3",
   "version": "3.11.4"
  },
  "orig_nbformat": 4
 },
 "nbformat": 4,
 "nbformat_minor": 2
}
